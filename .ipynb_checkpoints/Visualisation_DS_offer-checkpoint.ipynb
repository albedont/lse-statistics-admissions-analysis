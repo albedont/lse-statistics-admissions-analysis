{
 "cells": [
  {
   "cell_type": "code",
   "execution_count": 74,
   "id": "a0b322e7",
   "metadata": {},
   "outputs": [],
   "source": [
    "import pandas as pd\n",
    "\n",
    "def extract_from_excel(sheet_name):\n",
    "    \n",
    "    #import excel file with all statistics\n",
    "    df = pd.read_excel('data/Statistics.xlsx', sheet_name = sheet_name)\n",
    "    \n",
    "    #get rid of 1st two rows\n",
    "    dff = df.drop([0,1], axis = 0)\n",
    "    \n",
    "    #update the index \n",
    "    dff = dff.reset_index(drop = True)\n",
    "    dff.columns = ['Row Labels', 'Count']\n",
    "    \n",
    "    #further cleaning table\n",
    "    dff = dff.drop(0, axis = 0)\n",
    "    dff = dff.drop(dff.index[-1], axis = 0)\n",
    "    \n",
    "    dff.loc[dff['Row Labels'] == 'C', 'Row Labels'] = 'Conditional'\n",
    "    dff.loc[dff['Row Labels'] == 'R', 'Row Labels'] = 'Rejected'\n",
    "    dff.loc[dff['Row Labels'] == 'U', 'Row Labels'] = 'Unconditional'\n",
    "    dff.loc[dff['Row Labels'] == '(blank)', 'Row Labels'] = 'N/A'\n",
    "    \n",
    "    #adding new row to the end because no one was yet rejected in 2023 \n",
    "    if sheet_name == 'Offer Code_G0N0' or sheet_name == 'Offer Code_N321':\n",
    "        new_row = {'Row Labels': 'Unconditional', 'Count': 0}\n",
    "        #update the index\n",
    "        dff = dff.append(new_row, ignore_index = True)\n",
    "    \n",
    "    #select only rows with year in the 1st column\n",
    "    years_df = dff[dff['Row Labels'].str.match(r\"\\d{4}\")].reset_index(drop = True)\n",
    "    \n",
    "    #give names to the columns \n",
    "    years_df.columns = ['Application year', 'Number of applicants']\n",
    "    years_df['Application year'] = years_df['Application year'].astype(int)\n",
    "    years_df['Number of applicants'] = years_df['Number of applicants'].astype(int)\n",
    "    \n",
    "    #list of years \n",
    "    years = years_df['Application year'].tolist()\n",
    "    \n",
    "    #list of total number of students for all above years\n",
    "    totals = years_df['Number of applicants'].tolist()\n",
    "    \n",
    "    return dff, years_df, years, totals"
   ]
  },
  {
   "cell_type": "code",
   "execution_count": 75,
   "id": "f1a93bce",
   "metadata": {},
   "outputs": [
    {
     "name": "stderr",
     "output_type": "stream",
     "text": [
      "/var/folders/nk/11mf76s50gz61x90_5d8hnkr0000gn/T/ipykernel_10613/4443650.py:28: FutureWarning: The frame.append method is deprecated and will be removed from pandas in a future version. Use pandas.concat instead.\n",
      "  dff = dff.append(new_row, ignore_index = True)\n",
      "/var/folders/nk/11mf76s50gz61x90_5d8hnkr0000gn/T/ipykernel_10613/4443650.py:28: FutureWarning: The frame.append method is deprecated and will be removed from pandas in a future version. Use pandas.concat instead.\n",
      "  dff = dff.append(new_row, ignore_index = True)\n"
     ]
    },
    {
     "data": {
      "text/html": [
       "<div>\n",
       "<style scoped>\n",
       "    .dataframe tbody tr th:only-of-type {\n",
       "        vertical-align: middle;\n",
       "    }\n",
       "\n",
       "    .dataframe tbody tr th {\n",
       "        vertical-align: top;\n",
       "    }\n",
       "\n",
       "    .dataframe thead th {\n",
       "        text-align: right;\n",
       "    }\n",
       "</style>\n",
       "<table border=\"1\" class=\"dataframe\">\n",
       "  <thead>\n",
       "    <tr style=\"text-align: right;\">\n",
       "      <th></th>\n",
       "      <th>Row Labels</th>\n",
       "      <th>Count</th>\n",
       "    </tr>\n",
       "  </thead>\n",
       "  <tbody>\n",
       "    <tr>\n",
       "      <th>1</th>\n",
       "      <td>2021</td>\n",
       "      <td>467</td>\n",
       "    </tr>\n",
       "    <tr>\n",
       "      <th>2</th>\n",
       "      <td>Conditional</td>\n",
       "      <td>46</td>\n",
       "    </tr>\n",
       "    <tr>\n",
       "      <th>3</th>\n",
       "      <td>Rejected</td>\n",
       "      <td>403</td>\n",
       "    </tr>\n",
       "    <tr>\n",
       "      <th>4</th>\n",
       "      <td>Unconditional</td>\n",
       "      <td>1</td>\n",
       "    </tr>\n",
       "    <tr>\n",
       "      <th>5</th>\n",
       "      <td>N/A</td>\n",
       "      <td>17</td>\n",
       "    </tr>\n",
       "    <tr>\n",
       "      <th>6</th>\n",
       "      <td>2022</td>\n",
       "      <td>564</td>\n",
       "    </tr>\n",
       "    <tr>\n",
       "      <th>7</th>\n",
       "      <td>Conditional</td>\n",
       "      <td>54</td>\n",
       "    </tr>\n",
       "    <tr>\n",
       "      <th>8</th>\n",
       "      <td>Rejected</td>\n",
       "      <td>496</td>\n",
       "    </tr>\n",
       "    <tr>\n",
       "      <th>9</th>\n",
       "      <td>Unconditional</td>\n",
       "      <td>5</td>\n",
       "    </tr>\n",
       "    <tr>\n",
       "      <th>10</th>\n",
       "      <td>N/A</td>\n",
       "      <td>9</td>\n",
       "    </tr>\n",
       "    <tr>\n",
       "      <th>11</th>\n",
       "      <td>2023</td>\n",
       "      <td>566</td>\n",
       "    </tr>\n",
       "    <tr>\n",
       "      <th>12</th>\n",
       "      <td>Conditional</td>\n",
       "      <td>20</td>\n",
       "    </tr>\n",
       "    <tr>\n",
       "      <th>13</th>\n",
       "      <td>Rejected</td>\n",
       "      <td>155</td>\n",
       "    </tr>\n",
       "    <tr>\n",
       "      <th>14</th>\n",
       "      <td>Unconditional</td>\n",
       "      <td>1</td>\n",
       "    </tr>\n",
       "    <tr>\n",
       "      <th>15</th>\n",
       "      <td>N/A</td>\n",
       "      <td>390</td>\n",
       "    </tr>\n",
       "  </tbody>\n",
       "</table>\n",
       "</div>"
      ],
      "text/plain": [
       "       Row Labels Count\n",
       "1            2021   467\n",
       "2     Conditional    46\n",
       "3        Rejected   403\n",
       "4   Unconditional     1\n",
       "5             N/A    17\n",
       "6            2022   564\n",
       "7     Conditional    54\n",
       "8        Rejected   496\n",
       "9   Unconditional     5\n",
       "10            N/A     9\n",
       "11           2023   566\n",
       "12    Conditional    20\n",
       "13       Rejected   155\n",
       "14  Unconditional     1\n",
       "15            N/A   390"
      ]
     },
     "execution_count": 75,
     "metadata": {},
     "output_type": "execute_result"
    }
   ],
   "source": [
    "dff_G0N0, years_df_G0N0, years_G0N0, totals_G0N0 = extract_from_excel('Offer Code_G0N0')\n",
    "dff_N321, years_df_N321, years_N321, totals_N321 = extract_from_excel('Offer Code_N321')\n",
    "dff_N3UD, years_df_N3UD, years_N3UD, totals_N3UD = extract_from_excel('Offer Code_N3UD')\n",
    "dff_N3UD"
   ]
  },
  {
   "cell_type": "code",
   "execution_count": 76,
   "id": "ce8547bd",
   "metadata": {},
   "outputs": [],
   "source": [
    "C_G0N0 = dff_G0N0[dff_G0N0['Row Labels'] == 'Conditional']['Count'].reset_index(drop = True).tolist()\n",
    "R_G0N0 = dff_G0N0[dff_G0N0['Row Labels'] == 'Rejected']['Count'].reset_index(drop = True).tolist()\n",
    "U_G0N0 = dff_G0N0[dff_G0N0['Row Labels'] == 'Unconditional']['Count'].reset_index(drop = True).tolist()\n",
    "NA_G0N0 = dff_G0N0[dff_G0N0['Row Labels'] == 'N/A']['Count'].reset_index(drop = True).tolist()"
   ]
  },
  {
   "cell_type": "code",
   "execution_count": 77,
   "id": "02025f2e",
   "metadata": {},
   "outputs": [],
   "source": [
    "C_N321 = dff_N321[dff_N321['Row Labels'] == 'Conditional']['Count'].reset_index(drop=True).tolist()\n",
    "R_N321 = dff_N321[dff_N321['Row Labels'] == 'Rejected']['Count'].reset_index(drop=True).tolist()\n",
    "U_N321 = dff_N321[dff_N321['Row Labels'] == 'Unconditional']['Count'].reset_index(drop=True).tolist()\n",
    "NA_N321 = dff_N321[dff_N321['Row Labels'] == 'N/A']['Count'].reset_index(drop=True).tolist()"
   ]
  },
  {
   "cell_type": "code",
   "execution_count": 78,
   "id": "36b4b2b6",
   "metadata": {},
   "outputs": [],
   "source": [
    "C_N3UD = dff_N3UD[dff_N3UD['Row Labels'] == 'Conditional']['Count'].reset_index(drop=True).tolist()\n",
    "R_N3UD = dff_N3UD[dff_N3UD['Row Labels'] == 'Rejected']['Count'].reset_index(drop=True).tolist()\n",
    "U_N3UD = dff_N3UD[dff_N3UD['Row Labels'] == 'Unconditional']['Count'].reset_index(drop=True).tolist()\n",
    "NA_N3UD = dff_N3UD[dff_N3UD['Row Labels'] == 'N/A']['Count'].reset_index(drop=True).tolist()"
   ]
  },
  {
   "cell_type": "code",
   "execution_count": 79,
   "id": "57b42fc3",
   "metadata": {},
   "outputs": [
    {
     "data": {
      "text/html": [
       "<div>\n",
       "<style scoped>\n",
       "    .dataframe tbody tr th:only-of-type {\n",
       "        vertical-align: middle;\n",
       "    }\n",
       "\n",
       "    .dataframe tbody tr th {\n",
       "        vertical-align: top;\n",
       "    }\n",
       "\n",
       "    .dataframe thead th {\n",
       "        text-align: right;\n",
       "    }\n",
       "</style>\n",
       "<table border=\"1\" class=\"dataframe\">\n",
       "  <thead>\n",
       "    <tr style=\"text-align: right;\">\n",
       "      <th></th>\n",
       "      <th>Year</th>\n",
       "      <th>Conditional for MSB</th>\n",
       "      <th>Rejected for MSB</th>\n",
       "      <th>Unconditional for MSB</th>\n",
       "      <th>Not available for MSB</th>\n",
       "      <th>Total number of MSB applicants</th>\n",
       "      <th>% Conditional for MSB</th>\n",
       "      <th>% Rejected for MSB</th>\n",
       "      <th>% Unconditional for MSB</th>\n",
       "      <th>% Not available for MSB</th>\n",
       "      <th>Conditional for AS</th>\n",
       "      <th>Rejected for AS</th>\n",
       "      <th>Unconditional for AS</th>\n",
       "      <th>Not available for AS</th>\n",
       "      <th>Total number of AS applicants</th>\n",
       "      <th>% Conditional for AS</th>\n",
       "      <th>% Rejected for AS</th>\n",
       "      <th>% Unconditional for AS</th>\n",
       "      <th>% Not available for AS</th>\n",
       "    </tr>\n",
       "  </thead>\n",
       "  <tbody>\n",
       "    <tr>\n",
       "      <th>0</th>\n",
       "      <td>2014</td>\n",
       "      <td>45</td>\n",
       "      <td>221</td>\n",
       "      <td>4</td>\n",
       "      <td>4</td>\n",
       "      <td>274</td>\n",
       "      <td>16.423358</td>\n",
       "      <td>80.656934</td>\n",
       "      <td>1.459854</td>\n",
       "      <td>1.459854</td>\n",
       "      <td>174</td>\n",
       "      <td>376</td>\n",
       "      <td>8</td>\n",
       "      <td>4</td>\n",
       "      <td>562</td>\n",
       "      <td>63.503650</td>\n",
       "      <td>137.226277</td>\n",
       "      <td>2.919708</td>\n",
       "      <td>1.459854</td>\n",
       "    </tr>\n",
       "    <tr>\n",
       "      <th>1</th>\n",
       "      <td>2015</td>\n",
       "      <td>53</td>\n",
       "      <td>179</td>\n",
       "      <td>1</td>\n",
       "      <td>3</td>\n",
       "      <td>236</td>\n",
       "      <td>22.457627</td>\n",
       "      <td>75.847458</td>\n",
       "      <td>0.423729</td>\n",
       "      <td>1.271186</td>\n",
       "      <td>159</td>\n",
       "      <td>397</td>\n",
       "      <td>17</td>\n",
       "      <td>9</td>\n",
       "      <td>582</td>\n",
       "      <td>67.372881</td>\n",
       "      <td>168.220339</td>\n",
       "      <td>7.203390</td>\n",
       "      <td>3.813559</td>\n",
       "    </tr>\n",
       "    <tr>\n",
       "      <th>2</th>\n",
       "      <td>2016</td>\n",
       "      <td>38</td>\n",
       "      <td>131</td>\n",
       "      <td>12</td>\n",
       "      <td>3</td>\n",
       "      <td>184</td>\n",
       "      <td>20.652174</td>\n",
       "      <td>71.195652</td>\n",
       "      <td>6.521739</td>\n",
       "      <td>1.630435</td>\n",
       "      <td>139</td>\n",
       "      <td>375</td>\n",
       "      <td>19</td>\n",
       "      <td>5</td>\n",
       "      <td>538</td>\n",
       "      <td>75.543478</td>\n",
       "      <td>203.804348</td>\n",
       "      <td>10.326087</td>\n",
       "      <td>2.717391</td>\n",
       "    </tr>\n",
       "    <tr>\n",
       "      <th>3</th>\n",
       "      <td>2017</td>\n",
       "      <td>53</td>\n",
       "      <td>123</td>\n",
       "      <td>8</td>\n",
       "      <td>3</td>\n",
       "      <td>187</td>\n",
       "      <td>28.342246</td>\n",
       "      <td>65.775401</td>\n",
       "      <td>4.278075</td>\n",
       "      <td>1.604278</td>\n",
       "      <td>140</td>\n",
       "      <td>333</td>\n",
       "      <td>10</td>\n",
       "      <td>4</td>\n",
       "      <td>487</td>\n",
       "      <td>74.866310</td>\n",
       "      <td>178.074866</td>\n",
       "      <td>5.347594</td>\n",
       "      <td>2.139037</td>\n",
       "    </tr>\n",
       "    <tr>\n",
       "      <th>4</th>\n",
       "      <td>2018</td>\n",
       "      <td>79</td>\n",
       "      <td>258</td>\n",
       "      <td>2</td>\n",
       "      <td>11</td>\n",
       "      <td>350</td>\n",
       "      <td>22.571429</td>\n",
       "      <td>73.714286</td>\n",
       "      <td>0.571429</td>\n",
       "      <td>3.142857</td>\n",
       "      <td>164</td>\n",
       "      <td>319</td>\n",
       "      <td>1</td>\n",
       "      <td>14</td>\n",
       "      <td>498</td>\n",
       "      <td>46.857143</td>\n",
       "      <td>91.142857</td>\n",
       "      <td>0.285714</td>\n",
       "      <td>4.000000</td>\n",
       "    </tr>\n",
       "    <tr>\n",
       "      <th>5</th>\n",
       "      <td>2019</td>\n",
       "      <td>92</td>\n",
       "      <td>389</td>\n",
       "      <td>1</td>\n",
       "      <td>7</td>\n",
       "      <td>489</td>\n",
       "      <td>18.813906</td>\n",
       "      <td>79.550102</td>\n",
       "      <td>0.204499</td>\n",
       "      <td>1.431493</td>\n",
       "      <td>176</td>\n",
       "      <td>269</td>\n",
       "      <td>2</td>\n",
       "      <td>5</td>\n",
       "      <td>452</td>\n",
       "      <td>35.991820</td>\n",
       "      <td>55.010225</td>\n",
       "      <td>0.408998</td>\n",
       "      <td>1.022495</td>\n",
       "    </tr>\n",
       "    <tr>\n",
       "      <th>6</th>\n",
       "      <td>2020</td>\n",
       "      <td>102</td>\n",
       "      <td>415</td>\n",
       "      <td>3</td>\n",
       "      <td>24</td>\n",
       "      <td>544</td>\n",
       "      <td>18.750000</td>\n",
       "      <td>76.286765</td>\n",
       "      <td>0.551471</td>\n",
       "      <td>4.411765</td>\n",
       "      <td>187</td>\n",
       "      <td>244</td>\n",
       "      <td>3</td>\n",
       "      <td>12</td>\n",
       "      <td>446</td>\n",
       "      <td>34.375000</td>\n",
       "      <td>44.852941</td>\n",
       "      <td>0.551471</td>\n",
       "      <td>2.205882</td>\n",
       "    </tr>\n",
       "    <tr>\n",
       "      <th>7</th>\n",
       "      <td>2021</td>\n",
       "      <td>68</td>\n",
       "      <td>473</td>\n",
       "      <td>4</td>\n",
       "      <td>12</td>\n",
       "      <td>557</td>\n",
       "      <td>12.208259</td>\n",
       "      <td>84.919210</td>\n",
       "      <td>0.718133</td>\n",
       "      <td>2.154399</td>\n",
       "      <td>116</td>\n",
       "      <td>334</td>\n",
       "      <td>4</td>\n",
       "      <td>19</td>\n",
       "      <td>473</td>\n",
       "      <td>20.825853</td>\n",
       "      <td>59.964093</td>\n",
       "      <td>0.718133</td>\n",
       "      <td>3.411131</td>\n",
       "    </tr>\n",
       "    <tr>\n",
       "      <th>8</th>\n",
       "      <td>2022</td>\n",
       "      <td>93</td>\n",
       "      <td>503</td>\n",
       "      <td>4</td>\n",
       "      <td>8</td>\n",
       "      <td>608</td>\n",
       "      <td>15.296053</td>\n",
       "      <td>82.730263</td>\n",
       "      <td>0.657895</td>\n",
       "      <td>1.315789</td>\n",
       "      <td>128</td>\n",
       "      <td>324</td>\n",
       "      <td>5</td>\n",
       "      <td>9</td>\n",
       "      <td>466</td>\n",
       "      <td>21.052632</td>\n",
       "      <td>53.289474</td>\n",
       "      <td>0.822368</td>\n",
       "      <td>1.480263</td>\n",
       "    </tr>\n",
       "    <tr>\n",
       "      <th>9</th>\n",
       "      <td>2023</td>\n",
       "      <td>21</td>\n",
       "      <td>201</td>\n",
       "      <td>0</td>\n",
       "      <td>298</td>\n",
       "      <td>520</td>\n",
       "      <td>4.038462</td>\n",
       "      <td>38.653846</td>\n",
       "      <td>0.000000</td>\n",
       "      <td>57.307692</td>\n",
       "      <td>60</td>\n",
       "      <td>104</td>\n",
       "      <td>0</td>\n",
       "      <td>184</td>\n",
       "      <td>348</td>\n",
       "      <td>11.538462</td>\n",
       "      <td>20.000000</td>\n",
       "      <td>0.000000</td>\n",
       "      <td>35.384615</td>\n",
       "    </tr>\n",
       "  </tbody>\n",
       "</table>\n",
       "</div>"
      ],
      "text/plain": [
       "   Year  Conditional for MSB  Rejected for MSB  Unconditional for MSB  \\\n",
       "0  2014                   45               221                      4   \n",
       "1  2015                   53               179                      1   \n",
       "2  2016                   38               131                     12   \n",
       "3  2017                   53               123                      8   \n",
       "4  2018                   79               258                      2   \n",
       "5  2019                   92               389                      1   \n",
       "6  2020                  102               415                      3   \n",
       "7  2021                   68               473                      4   \n",
       "8  2022                   93               503                      4   \n",
       "9  2023                   21               201                      0   \n",
       "\n",
       "   Not available for MSB  Total number of MSB applicants  \\\n",
       "0                      4                             274   \n",
       "1                      3                             236   \n",
       "2                      3                             184   \n",
       "3                      3                             187   \n",
       "4                     11                             350   \n",
       "5                      7                             489   \n",
       "6                     24                             544   \n",
       "7                     12                             557   \n",
       "8                      8                             608   \n",
       "9                    298                             520   \n",
       "\n",
       "   % Conditional for MSB  % Rejected for MSB  % Unconditional for MSB  \\\n",
       "0              16.423358           80.656934                 1.459854   \n",
       "1              22.457627           75.847458                 0.423729   \n",
       "2              20.652174           71.195652                 6.521739   \n",
       "3              28.342246           65.775401                 4.278075   \n",
       "4              22.571429           73.714286                 0.571429   \n",
       "5              18.813906           79.550102                 0.204499   \n",
       "6              18.750000           76.286765                 0.551471   \n",
       "7              12.208259           84.919210                 0.718133   \n",
       "8              15.296053           82.730263                 0.657895   \n",
       "9               4.038462           38.653846                 0.000000   \n",
       "\n",
       "   % Not available for MSB  Conditional for AS  Rejected for AS  \\\n",
       "0                 1.459854                 174              376   \n",
       "1                 1.271186                 159              397   \n",
       "2                 1.630435                 139              375   \n",
       "3                 1.604278                 140              333   \n",
       "4                 3.142857                 164              319   \n",
       "5                 1.431493                 176              269   \n",
       "6                 4.411765                 187              244   \n",
       "7                 2.154399                 116              334   \n",
       "8                 1.315789                 128              324   \n",
       "9                57.307692                  60              104   \n",
       "\n",
       "   Unconditional for AS  Not available for AS  Total number of AS applicants  \\\n",
       "0                     8                     4                            562   \n",
       "1                    17                     9                            582   \n",
       "2                    19                     5                            538   \n",
       "3                    10                     4                            487   \n",
       "4                     1                    14                            498   \n",
       "5                     2                     5                            452   \n",
       "6                     3                    12                            446   \n",
       "7                     4                    19                            473   \n",
       "8                     5                     9                            466   \n",
       "9                     0                   184                            348   \n",
       "\n",
       "   % Conditional for AS  % Rejected for AS  % Unconditional for AS  \\\n",
       "0             63.503650         137.226277                2.919708   \n",
       "1             67.372881         168.220339                7.203390   \n",
       "2             75.543478         203.804348               10.326087   \n",
       "3             74.866310         178.074866                5.347594   \n",
       "4             46.857143          91.142857                0.285714   \n",
       "5             35.991820          55.010225                0.408998   \n",
       "6             34.375000          44.852941                0.551471   \n",
       "7             20.825853          59.964093                0.718133   \n",
       "8             21.052632          53.289474                0.822368   \n",
       "9             11.538462          20.000000                0.000000   \n",
       "\n",
       "   % Not available for AS  \n",
       "0                1.459854  \n",
       "1                3.813559  \n",
       "2                2.717391  \n",
       "3                2.139037  \n",
       "4                4.000000  \n",
       "5                1.022495  \n",
       "6                2.205882  \n",
       "7                3.411131  \n",
       "8                1.480263  \n",
       "9               35.384615  "
      ]
     },
     "execution_count": 79,
     "metadata": {},
     "output_type": "execute_result"
    }
   ],
   "source": [
    "tailored_df_MSB_AS = pd.DataFrame()\n",
    "\n",
    "tailored_df_MSB_AS['Year']= years_G0N0\n",
    "tailored_df_MSB_AS['Conditional for MSB']= C_G0N0\n",
    "tailored_df_MSB_AS['Rejected for MSB']= R_G0N0\n",
    "tailored_df_MSB_AS['Unconditional for MSB']= U_G0N0\n",
    "tailored_df_MSB_AS['Not available for MSB']= NA_G0N0\n",
    "tailored_df_MSB_AS['Total number of MSB applicants'] = totals_G0N0\n",
    "\n",
    "tailored_df_MSB_AS['% Conditional for MSB']= tailored_df_MSB_AS['Conditional for MSB']/tailored_df_MSB_AS['Total number of MSB applicants']*100\n",
    "tailored_df_MSB_AS['% Rejected for MSB']= tailored_df_MSB_AS['Rejected for MSB']/tailored_df_MSB_AS['Total number of MSB applicants']*100\n",
    "tailored_df_MSB_AS['% Unconditional for MSB']= tailored_df_MSB_AS['Unconditional for MSB']/tailored_df_MSB_AS['Total number of MSB applicants']*100\n",
    "tailored_df_MSB_AS['% Not available for MSB']= tailored_df_MSB_AS['Not available for MSB']/tailored_df_MSB_AS['Total number of MSB applicants']*100\n",
    "    \n",
    "    \n",
    "tailored_df_MSB_AS['Conditional for AS'] = C_N321\n",
    "tailored_df_MSB_AS['Rejected for AS'] = R_N321\n",
    "tailored_df_MSB_AS['Unconditional for AS'] = U_N321\n",
    "tailored_df_MSB_AS['Not available for AS'] = NA_N321\n",
    "tailored_df_MSB_AS['Total number of AS applicants'] = totals_N321\n",
    "\n",
    "tailored_df_MSB_AS['% Conditional for AS'] = tailored_df_MSB_AS['Conditional for AS'] / tailored_df_MSB_AS['Total number of MSB applicants'] * 100\n",
    "tailored_df_MSB_AS['% Rejected for AS'] = tailored_df_MSB_AS['Rejected for AS'] / tailored_df_MSB_AS['Total number of MSB applicants'] * 100\n",
    "tailored_df_MSB_AS['% Unconditional for AS'] = tailored_df_MSB_AS['Unconditional for AS'] / tailored_df_MSB_AS['Total number of MSB applicants'] * 100\n",
    "tailored_df_MSB_AS['% Not available for AS'] = tailored_df_MSB_AS['Not available for AS'] / tailored_df_MSB_AS['Total number of MSB applicants'] * 100\n",
    "\n",
    "\n",
    "tailored_df_MSB_AS"
   ]
  },
  {
   "cell_type": "code",
   "execution_count": 83,
   "id": "ef706645",
   "metadata": {},
   "outputs": [
    {
     "data": {
      "text/html": [
       "<div>\n",
       "<style scoped>\n",
       "    .dataframe tbody tr th:only-of-type {\n",
       "        vertical-align: middle;\n",
       "    }\n",
       "\n",
       "    .dataframe tbody tr th {\n",
       "        vertical-align: top;\n",
       "    }\n",
       "\n",
       "    .dataframe thead th {\n",
       "        text-align: right;\n",
       "    }\n",
       "</style>\n",
       "<table border=\"1\" class=\"dataframe\">\n",
       "  <thead>\n",
       "    <tr style=\"text-align: right;\">\n",
       "      <th></th>\n",
       "      <th>Year</th>\n",
       "      <th>Conditional for DS</th>\n",
       "      <th>Rejected for DS</th>\n",
       "      <th>Unconditional for DS</th>\n",
       "      <th>Not available for DS</th>\n",
       "      <th>Total number of DS applicants</th>\n",
       "      <th>% Conditional for DS</th>\n",
       "      <th>% Rejected for DS</th>\n",
       "      <th>% Unconditional for DS</th>\n",
       "      <th>% Not available for DS</th>\n",
       "    </tr>\n",
       "  </thead>\n",
       "  <tbody>\n",
       "    <tr>\n",
       "      <th>0</th>\n",
       "      <td>2021</td>\n",
       "      <td>46</td>\n",
       "      <td>403</td>\n",
       "      <td>1</td>\n",
       "      <td>17</td>\n",
       "      <td>467</td>\n",
       "      <td>9.850107</td>\n",
       "      <td>86.295503</td>\n",
       "      <td>0.214133</td>\n",
       "      <td>3.640257</td>\n",
       "    </tr>\n",
       "    <tr>\n",
       "      <th>1</th>\n",
       "      <td>2022</td>\n",
       "      <td>54</td>\n",
       "      <td>496</td>\n",
       "      <td>5</td>\n",
       "      <td>9</td>\n",
       "      <td>564</td>\n",
       "      <td>9.574468</td>\n",
       "      <td>87.943262</td>\n",
       "      <td>0.886525</td>\n",
       "      <td>1.595745</td>\n",
       "    </tr>\n",
       "    <tr>\n",
       "      <th>2</th>\n",
       "      <td>2023</td>\n",
       "      <td>20</td>\n",
       "      <td>155</td>\n",
       "      <td>1</td>\n",
       "      <td>390</td>\n",
       "      <td>566</td>\n",
       "      <td>3.533569</td>\n",
       "      <td>27.385159</td>\n",
       "      <td>0.176678</td>\n",
       "      <td>68.904594</td>\n",
       "    </tr>\n",
       "  </tbody>\n",
       "</table>\n",
       "</div>"
      ],
      "text/plain": [
       "   Year  Conditional for DS  Rejected for DS  Unconditional for DS  \\\n",
       "0  2021                  46              403                     1   \n",
       "1  2022                  54              496                     5   \n",
       "2  2023                  20              155                     1   \n",
       "\n",
       "   Not available for DS  Total number of DS applicants  % Conditional for DS  \\\n",
       "0                    17                            467              9.850107   \n",
       "1                     9                            564              9.574468   \n",
       "2                   390                            566              3.533569   \n",
       "\n",
       "   % Rejected for DS  % Unconditional for DS  % Not available for DS  \n",
       "0          86.295503                0.214133                3.640257  \n",
       "1          87.943262                0.886525                1.595745  \n",
       "2          27.385159                0.176678               68.904594  "
      ]
     },
     "execution_count": 83,
     "metadata": {},
     "output_type": "execute_result"
    }
   ],
   "source": [
    "tailored_df_DS = pd.DataFrame()\n",
    "\n",
    "tailored_df_DS['Year']= years_N3UD\n",
    "tailored_df_DS['Conditional for DS'] = C_N3UD\n",
    "tailored_df_DS['Rejected for DS'] = R_N3UD\n",
    "tailored_df_DS['Unconditional for DS'] = U_N3UD\n",
    "tailored_df_DS['Not available for DS'] = NA_N3UD\n",
    "tailored_df_DS['Total number of DS applicants'] = totals_N3UD\n",
    "\n",
    "tailored_df_DS['% Conditional for DS'] = tailored_df_DS['Conditional for DS'] / tailored_df_DS['Total number of DS applicants'] * 100\n",
    "tailored_df_DS['% Rejected for DS'] = tailored_df_DS['Rejected for DS'] / tailored_df_DS['Total number of DS applicants'] * 100\n",
    "tailored_df_DS['% Unconditional for DS'] = tailored_df_DS['Unconditional for DS'] / tailored_df_DS['Total number of DS applicants'] * 100\n",
    "tailored_df_DS['% Not available for DS'] = tailored_df_DS['Not available for DS'] / tailored_df_DS['Total number of DS applicants'] * 100\n",
    "\n",
    "tailored_df_DS"
   ]
  },
  {
   "cell_type": "code",
   "execution_count": 90,
   "id": "eb22867c",
   "metadata": {},
   "outputs": [
    {
     "data": {
      "image/png": "[encoded data removed]",
      "text/plain": [
       "<Figure size 1440x720 with 1 Axes>"
      ]
     },
     "metadata": {
      "needs_background": "light"
     },
     "output_type": "display_data"
    }
   ],
   "source": [
    "tailored_df_MSB_AS.plot(x='Year', y=['Conditional for MSB', 'Rejected for MSB', 'Unconditional for MSB', 'Not available for MSB'], kind='bar', figsize = (20, 10), width = 0.75, zorder = 2);\n",
    "plt.grid(True, zorder = 0);"
   ]
  },
  {
   "cell_type": "code",
   "execution_count": 100,
   "id": "ea4d2fba",
   "metadata": {
    "scrolled": false
   },
   "outputs": [
    {
     "data": {
      "image/png": "[encoded data removed]",
      "text/plain": [
       "<Figure size 1440x720 with 1 Axes>"
      ]
     },
     "metadata": {
      "needs_background": "light"
     },
     "output_type": "display_data"
    }
   ],
   "source": [
    "tailored_df_MSB_AS.plot(x='Year', y=['% Conditional for MSB', '% Rejected for MSB', '% Unconditional for MSB', '% Not available for MSB'], kind='bar', figsize = (20, 10), width = 0.75, zorder = 2);\n",
    "plt.grid(True, zorder = 0);\n",
    "plt.ylim(0, 100);"
   ]
  },
  {
   "cell_type": "code",
   "execution_count": 102,
   "id": "08e4bb69",
   "metadata": {},
   "outputs": [
    {
     "data": {
      "image/png": "[encoded data removed]",
      "text/plain": [
       "<Figure size 1440x720 with 1 Axes>"
      ]
     },
     "metadata": {
      "needs_background": "light"
     },
     "output_type": "display_data"
    }
   ],
   "source": [
    "#zoomed in\n",
    "tailored_df_MSB_AS.plot(x='Year', y=['% Conditional for MSB', '% Rejected for MSB', '% Unconditional for MSB', '% Not available for MSB'], kind='bar', figsize = (20, 10), width = 0.75, zorder = 2);\n",
    "plt.grid(True, zorder = 0);\n",
    "plt.ylim(0, 30);"
   ]
  },
  {
   "cell_type": "code",
   "execution_count": 97,
   "id": "8239cf72",
   "metadata": {
    "scrolled": false
   },
   "outputs": [
    {
     "data": {
      "image/png": "[encoded data removed]",
      "text/plain": [
       "<Figure size 720x720 with 1 Axes>"
      ]
     },
     "metadata": {
      "needs_background": "light"
     },
     "output_type": "display_data"
    }
   ],
   "source": [
    "plt.figure(figsize = (10,10));\n",
    "plt.bar(years_G0N0, tailored_df_MSB_AS['% Conditional for MSB']);\n",
    "plt.bar(years_G0N0, tailored_df_MSB_AS['% Rejected for MSB'], bottom = tailored_df_MSB_AS['% Conditional for MSB']);\n",
    "plt.bar(years_G0N0, tailored_df_MSB_AS['% Unconditional for MSB'], bottom = tailored_df_MSB_AS['% Rejected for MSB']+tailored_df_MSB_AS['% Conditional for MSB']);\n",
    "plt.bar(years_G0N0, tailored_df_MSB_AS['% Not available for MSB'], bottom = tailored_df_MSB_AS['% Conditional for MSB']+tailored_df_MSB_AS['% Rejected for MSB']+tailored_df_MSB_AS['% Unconditional for MSB']);"
   ]
  },
  {
   "cell_type": "code",
   "execution_count": 104,
   "id": "61a90638",
   "metadata": {},
   "outputs": [
    {
     "data": {
      "application/vnd.plotly.v1+json": {
       "config": {
        "plotlyServerURL": "https://plot.ly"
       },
       "data": [
        {
         "marker": {
          "color": "green",
          "line": {
           "color": "black",
           "width": 1
          }
         },
         "name": "Accepted",
         "opacity": 0.6,
         "type": "bar",
         "x": [
          2014,
          2015,
          2016,
          2017,
          2018,
          2019,
          2020,
          2021,
          2022,
          2023
         ],
         "y": [
          45,
          53,
          38,
          53,
          79,
          92,
          102,
          68,
          93,
          21
         ]
        },
        {
         "marker": {
          "color": "red",
          "line": {
           "color": "black",
           "width": 1
          }
         },
         "name": "Rejected",
         "opacity": 0.6,
         "type": "bar",
         "x": [
          2014,
          2015,
          2016,
          2017,
          2018,
          2019,
          2020,
          2021,
          2022,
          2023
         ],
         "y": [
          221,
          179,
          131,
          123,
          258,
          389,
          415,
          473,
          503,
          201
         ]
        },
        {
         "marker": {
          "color": "orange",
          "line": {
           "color": "black",
           "width": 1
          }
         },
         "name": "Unconditional",
         "opacity": 0.6,
         "type": "bar",
         "x": [
          2014,
          2015,
          2016,
          2017,
          2018,
          2019,
          2020,
          2021,
          2022,
          2023
         ],
         "y": [
          4,
          1,
          12,
          8,
          2,
          1,
          3,
          4,
          4,
          0
         ]
        },
        {
         "marker": {
          "color": "blue",
          "line": {
           "color": "black",
           "width": 1
          }
         },
         "name": "Not available",
         "opacity": 0.6,
         "type": "bar",
         "x": [
          2014,
          2015,
          2016,
          2017,
          2018,
          2019,
          2020,
          2021,
          2022,
          2023
         ],
         "y": [
          4,
          3,
          3,
          3,
          11,
          7,
          24,
          12,
          8,
          298
         ]
        }
       ],
       "layout": {
        "template": {
         "data": {
          "bar": [
           {
            "error_x": {
             "color": "#2a3f5f"
            },
            "error_y": {
             "color": "#2a3f5f"
            },
            "marker": {
             "line": {
              "color": "#E5ECF6",
              "width": 0.5
             },
             "pattern": {
              "fillmode": "overlay",
              "size": 10,
              "solidity": 0.2
             }
            },
            "type": "bar"
           }
          ],
          "barpolar": [
           {
            "marker": {
             "line": {
              "color": "#E5ECF6",
              "width": 0.5
             },
             "pattern": {
              "fillmode": "overlay",
              "size": 10,
              "solidity": 0.2
             }
            },
            "type": "barpolar"
           }
          ],
          "carpet": [
           {
            "aaxis": {
             "endlinecolor": "#2a3f5f",
             "gridcolor": "white",
             "linecolor": "white",
             "minorgridcolor": "white",
             "startlinecolor": "#2a3f5f"
            },
            "baxis": {
             "endlinecolor": "#2a3f5f",
             "gridcolor": "white",
             "linecolor": "white",
             "minorgridcolor": "white",
             "startlinecolor": "#2a3f5f"
            },
            "type": "carpet"
           }
          ],
          "choropleth": [
           {
            "colorbar": {
             "outlinewidth": 0,
             "ticks": ""
            },
            "type": "choropleth"
           }
          ],
          "contour": [
           {
            "colorbar": {
             "outlinewidth": 0,
             "ticks": ""
            },
            "colorscale": [
             [
              0,
              "#0d0887"
             ],
             [
              0.1111111111111111,
              "#46039f"
             ],
             [
              0.2222222222222222,
              "#7201a8"
             ],
             [
              0.3333333333333333,
              "#9c179e"
             ],
             [
              0.4444444444444444,
              "#bd3786"
             ],
             [
              0.5555555555555556,
              "#d8576b"
             ],
             [
              0.6666666666666666,
              "#ed7953"
             ],
             [
              0.7777777777777778,
              "#fb9f3a"
             ],
             [
              0.8888888888888888,
              "#fdca26"
             ],
             [
              1,
              "#f0f921"
             ]
            ],
            "type": "contour"
           }
          ],
          "contourcarpet": [
           {
            "colorbar": {
             "outlinewidth": 0,
             "ticks": ""
            },
            "type": "contourcarpet"
           }
          ],
          "heatmap": [
           {
            "colorbar": {
             "outlinewidth": 0,
             "ticks": ""
            },
            "colorscale": [
             [
              0,
              "#0d0887"
             ],
             [
              0.1111111111111111,
              "#46039f"
             ],
             [
              0.2222222222222222,
              "#7201a8"
             ],
             [
              0.3333333333333333,
              "#9c179e"
             ],
             [
              0.4444444444444444,
              "#bd3786"
             ],
             [
              0.5555555555555556,
              "#d8576b"
             ],
             [
              0.6666666666666666,
              "#ed7953"
             ],
             [
              0.7777777777777778,
              "#fb9f3a"
             ],
             [
              0.8888888888888888,
              "#fdca26"
             ],
             [
              1,
              "#f0f921"
             ]
            ],
            "type": "heatmap"
           }
          ],
          "heatmapgl": [
           {
            "colorbar": {
             "outlinewidth": 0,
             "ticks": ""
            },
            "colorscale": [
             [
              0,
              "#0d0887"
             ],
             [
              0.1111111111111111,
              "#46039f"
             ],
             [
              0.2222222222222222,
              "#7201a8"
             ],
             [
              0.3333333333333333,
              "#9c179e"
             ],
             [
              0.4444444444444444,
              "#bd3786"
             ],
             [
              0.5555555555555556,
              "#d8576b"
             ],
             [
              0.6666666666666666,
              "#ed7953"
             ],
             [
              0.7777777777777778,
              "#fb9f3a"
             ],
             [
              0.8888888888888888,
              "#fdca26"
             ],
             [
              1,
              "#f0f921"
             ]
            ],
            "type": "heatmapgl"
           }
          ],
          "histogram": [
           {
            "marker": {
             "pattern": {
              "fillmode": "overlay",
              "size": 10,
              "solidity": 0.2
             }
            },
            "type": "histogram"
           }
          ],
          "histogram2d": [
           {
            "colorbar": {
             "outlinewidth": 0,
             "ticks": ""
            },
            "colorscale": [
             [
              0,
              "#0d0887"
             ],
             [
              0.1111111111111111,
              "#46039f"
             ],
             [
              0.2222222222222222,
              "#7201a8"
             ],
             [
              0.3333333333333333,
              "#9c179e"
             ],
             [
              0.4444444444444444,
              "#bd3786"
             ],
             [
              0.5555555555555556,
              "#d8576b"
             ],
             [
              0.6666666666666666,
              "#ed7953"
             ],
             [
              0.7777777777777778,
              "#fb9f3a"
             ],
             [
              0.8888888888888888,
              "#fdca26"
             ],
             [
              1,
              "#f0f921"
             ]
            ],
            "type": "histogram2d"
           }
          ],
          "histogram2dcontour": [
           {
            "colorbar": {
             "outlinewidth": 0,
             "ticks": ""
            },
            "colorscale": [
             [
              0,
              "#0d0887"
             ],
             [
              0.1111111111111111,
              "#46039f"
             ],
             [
              0.2222222222222222,
              "#7201a8"
             ],
             [
              0.3333333333333333,
              "#9c179e"
             ],
             [
              0.4444444444444444,
              "#bd3786"
             ],
             [
              0.5555555555555556,
              "#d8576b"
             ],
             [
              0.6666666666666666,
              "#ed7953"
             ],
             [
              0.7777777777777778,
              "#fb9f3a"
             ],
             [
              0.8888888888888888,
              "#fdca26"
             ],
             [
              1,
              "#f0f921"
             ]
            ],
            "type": "histogram2dcontour"
           }
          ],
          "mesh3d": [
           {
            "colorbar": {
             "outlinewidth": 0,
             "ticks": ""
            },
            "type": "mesh3d"
           }
          ],
          "parcoords": [
           {
            "line": {
             "colorbar": {
              "outlinewidth": 0,
              "ticks": ""
             }
            },
            "type": "parcoords"
           }
          ],
          "pie": [
           {
            "automargin": true,
            "type": "pie"
           }
          ],
          "scatter": [
           {
            "marker": {
             "colorbar": {
              "outlinewidth": 0,
              "ticks": ""
             }
            },
            "type": "scatter"
           }
          ],
          "scatter3d": [
           {
            "line": {
             "colorbar": {
              "outlinewidth": 0,
              "ticks": ""
             }
            },
            "marker": {
             "colorbar": {
              "outlinewidth": 0,
              "ticks": ""
             }
            },
            "type": "scatter3d"
           }
          ],
          "scattercarpet": [
           {
            "marker": {
             "colorbar": {
              "outlinewidth": 0,
              "ticks": ""
             }
            },
            "type": "scattercarpet"
           }
          ],
          "scattergeo": [
           {
            "marker": {
             "colorbar": {
              "outlinewidth": 0,
              "ticks": ""
             }
            },
            "type": "scattergeo"
           }
          ],
          "scattergl": [
           {
            "marker": {
             "colorbar": {
              "outlinewidth": 0,
              "ticks": ""
             }
            },
            "type": "scattergl"
           }
          ],
          "scattermapbox": [
           {
            "marker": {
             "colorbar": {
              "outlinewidth": 0,
              "ticks": ""
             }
            },
            "type": "scattermapbox"
           }
          ],
          "scatterpolar": [
           {
            "marker": {
             "colorbar": {
              "outlinewidth": 0,
              "ticks": ""
             }
            },
            "type": "scatterpolar"
           }
          ],
          "scatterpolargl": [
           {
            "marker": {
             "colorbar": {
              "outlinewidth": 0,
              "ticks": ""
             }
            },
            "type": "scatterpolargl"
           }
          ],
          "scatterternary": [
           {
            "marker": {
             "colorbar": {
              "outlinewidth": 0,
              "ticks": ""
             }
            },
            "type": "scatterternary"
           }
          ],
          "surface": [
           {
            "colorbar": {
             "outlinewidth": 0,
             "ticks": ""
            },
            "colorscale": [
             [
              0,
              "#0d0887"
             ],
             [
              0.1111111111111111,
              "#46039f"
             ],
             [
              0.2222222222222222,
              "#7201a8"
             ],
             [
              0.3333333333333333,
              "#9c179e"
             ],
             [
              0.4444444444444444,
              "#bd3786"
             ],
             [
              0.5555555555555556,
              "#d8576b"
             ],
             [
              0.6666666666666666,
              "#ed7953"
             ],
             [
              0.7777777777777778,
              "#fb9f3a"
             ],
             [
              0.8888888888888888,
              "#fdca26"
             ],
             [
              1,
              "#f0f921"
             ]
            ],
            "type": "surface"
           }
          ],
          "table": [
           {
            "cells": {
             "fill": {
              "color": "#EBF0F8"
             },
             "line": {
              "color": "white"
             }
            },
            "header": {
             "fill": {
              "color": "#C8D4E3"
             },
             "line": {
              "color": "white"
             }
            },
            "type": "table"
           }
          ]
         },
         "layout": {
          "annotationdefaults": {
           "arrowcolor": "#2a3f5f",
           "arrowhead": 0,
           "arrowwidth": 1
          },
          "autotypenumbers": "strict",
          "coloraxis": {
           "colorbar": {
            "outlinewidth": 0,
            "ticks": ""
           }
          },
          "colorscale": {
           "diverging": [
            [
             0,
             "#8e0152"
            ],
            [
             0.1,
             "#c51b7d"
            ],
            [
             0.2,
             "#de77ae"
            ],
            [
             0.3,
             "#f1b6da"
            ],
            [
             0.4,
             "#fde0ef"
            ],
            [
             0.5,
             "#f7f7f7"
            ],
            [
             0.6,
             "#e6f5d0"
            ],
            [
             0.7,
             "#b8e186"
            ],
            [
             0.8,
             "#7fbc41"
            ],
            [
             0.9,
             "#4d9221"
            ],
            [
             1,
             "#276419"
            ]
           ],
           "sequential": [
            [
             0,
             "#0d0887"
            ],
            [
             0.1111111111111111,
             "#46039f"
            ],
            [
             0.2222222222222222,
             "#7201a8"
            ],
            [
             0.3333333333333333,
             "#9c179e"
            ],
            [
             0.4444444444444444,
             "#bd3786"
            ],
            [
             0.5555555555555556,
             "#d8576b"
            ],
            [
             0.6666666666666666,
             "#ed7953"
            ],
            [
             0.7777777777777778,
             "#fb9f3a"
            ],
            [
             0.8888888888888888,
             "#fdca26"
            ],
            [
             1,
             "#f0f921"
            ]
           ],
           "sequentialminus": [
            [
             0,
             "#0d0887"
            ],
            [
             0.1111111111111111,
             "#46039f"
            ],
            [
             0.2222222222222222,
             "#7201a8"
            ],
            [
             0.3333333333333333,
             "#9c179e"
            ],
            [
             0.4444444444444444,
             "#bd3786"
            ],
            [
             0.5555555555555556,
             "#d8576b"
            ],
            [
             0.6666666666666666,
             "#ed7953"
            ],
            [
             0.7777777777777778,
             "#fb9f3a"
            ],
            [
             0.8888888888888888,
             "#fdca26"
            ],
            [
             1,
             "#f0f921"
            ]
           ]
          },
          "colorway": [
           "#636efa",
           "#EF553B",
           "#00cc96",
           "#ab63fa",
           "#FFA15A",
           "#19d3f3",
           "#FF6692",
           "#B6E880",
           "#FF97FF",
           "#FECB52"
          ],
          "font": {
           "color": "#2a3f5f"
          },
          "geo": {
           "bgcolor": "white",
           "lakecolor": "white",
           "landcolor": "#E5ECF6",
           "showlakes": true,
           "showland": true,
           "subunitcolor": "white"
          },
          "hoverlabel": {
           "align": "left"
          },
          "hovermode": "closest",
          "mapbox": {
           "style": "light"
          },
          "paper_bgcolor": "white",
          "plot_bgcolor": "#E5ECF6",
          "polar": {
           "angularaxis": {
            "gridcolor": "white",
            "linecolor": "white",
            "ticks": ""
           },
           "bgcolor": "#E5ECF6",
           "radialaxis": {
            "gridcolor": "white",
            "linecolor": "white",
            "ticks": ""
           }
          },
          "scene": {
           "xaxis": {
            "backgroundcolor": "#E5ECF6",
            "gridcolor": "white",
            "gridwidth": 2,
            "linecolor": "white",
            "showbackground": true,
            "ticks": "",
            "zerolinecolor": "white"
           },
           "yaxis": {
            "backgroundcolor": "#E5ECF6",
            "gridcolor": "white",
            "gridwidth": 2,
            "linecolor": "white",
            "showbackground": true,
            "ticks": "",
            "zerolinecolor": "white"
           },
           "zaxis": {
            "backgroundcolor": "#E5ECF6",
            "gridcolor": "white",
            "gridwidth": 2,
            "linecolor": "white",
            "showbackground": true,
            "ticks": "",
            "zerolinecolor": "white"
           }
          },
          "shapedefaults": {
           "line": {
            "color": "#2a3f5f"
           }
          },
          "ternary": {
           "aaxis": {
            "gridcolor": "white",
            "linecolor": "white",
            "ticks": ""
           },
           "baxis": {
            "gridcolor": "white",
            "linecolor": "white",
            "ticks": ""
           },
           "bgcolor": "#E5ECF6",
           "caxis": {
            "gridcolor": "white",
            "linecolor": "white",
            "ticks": ""
           }
          },
          "title": {
           "x": 0.05
          },
          "xaxis": {
           "automargin": true,
           "gridcolor": "white",
           "linecolor": "white",
           "ticks": "",
           "title": {
            "standoff": 15
           },
           "zerolinecolor": "white",
           "zerolinewidth": 2
          },
          "yaxis": {
           "automargin": true,
           "gridcolor": "white",
           "linecolor": "white",
           "ticks": "",
           "title": {
            "standoff": 15
           },
           "zerolinecolor": "white",
           "zerolinewidth": 2
          }
         }
        },
        "title": {
         "font": {
          "size": 20
         },
         "text": "Number of applicants for MSB by year",
         "x": 0.5,
         "y": 0.9
        },
        "xaxis": {
         "tickvals": [
          2014,
          2015,
          2016,
          2017,
          2018,
          2019,
          2020,
          2021,
          2022,
          2023
         ],
         "title": {
          "text": "Application year"
         }
        },
        "yaxis": {
         "tickvals": [
          0,
          50,
          100,
          150,
          200,
          250,
          300,
          350,
          400,
          450,
          500,
          550,
          600,
          650
         ],
         "title": {
          "text": "Number of applicants for MSB"
         }
        }
       }
      },
      "text/html": [
       "<div>                            <div id=\"de60a352-c828-4930-bcb1-04a95096d648\" class=\"plotly-graph-div\" style=\"height:525px; width:100%;\"></div>            <script type=\"text/javascript\">                require([\"plotly\"], function(Plotly) {                    window.PLOTLYENV=window.PLOTLYENV || {};                                    if (document.getElementById(\"de60a352-c828-4930-bcb1-04a95096d648\")) {                    Plotly.newPlot(                        \"de60a352-c828-4930-bcb1-04a95096d648\",                        [{\"marker\":{\"color\":\"green\",\"line\":{\"color\":\"black\",\"width\":1}},\"name\":\"Accepted\",\"x\":[2014,2015,2016,2017,2018,2019,2020,2021,2022,2023],\"y\":[45,53,38,53,79,92,102,68,93,21],\"type\":\"bar\",\"opacity\":0.6},{\"marker\":{\"color\":\"red\",\"line\":{\"color\":\"black\",\"width\":1}},\"name\":\"Rejected\",\"x\":[2014,2015,2016,2017,2018,2019,2020,2021,2022,2023],\"y\":[221,179,131,123,258,389,415,473,503,201],\"type\":\"bar\",\"opacity\":0.6},{\"marker\":{\"color\":\"orange\",\"line\":{\"color\":\"black\",\"width\":1}},\"name\":\"Unconditional\",\"x\":[2014,2015,2016,2017,2018,2019,2020,2021,2022,2023],\"y\":[4,1,12,8,2,1,3,4,4,0],\"type\":\"bar\",\"opacity\":0.6},{\"marker\":{\"color\":\"blue\",\"line\":{\"color\":\"black\",\"width\":1}},\"name\":\"Not available\",\"x\":[2014,2015,2016,2017,2018,2019,2020,2021,2022,2023],\"y\":[4,3,3,3,11,7,24,12,8,298],\"type\":\"bar\",\"opacity\":0.6}],                        {\"template\":{\"data\":{\"bar\":[{\"error_x\":{\"color\":\"#2a3f5f\"},\"error_y\":{\"color\":\"#2a3f5f\"},\"marker\":{\"line\":{\"color\":\"#E5ECF6\",\"width\":0.5},\"pattern\":{\"fillmode\":\"overlay\",\"size\":10,\"solidity\":0.2}},\"type\":\"bar\"}],\"barpolar\":[{\"marker\":{\"line\":{\"color\":\"#E5ECF6\",\"width\":0.5},\"pattern\":{\"fillmode\":\"overlay\",\"size\":10,\"solidity\":0.2}},\"type\":\"barpolar\"}],\"carpet\":[{\"aaxis\":{\"endlinecolor\":\"#2a3f5f\",\"gridcolor\":\"white\",\"linecolor\":\"white\",\"minorgridcolor\":\"white\",\"startlinecolor\":\"#2a3f5f\"},\"baxis\":{\"endlinecolor\":\"#2a3f5f\",\"gridcolor\":\"white\",\"linecolor\":\"white\",\"minorgridcolor\":\"white\",\"startlinecolor\":\"#2a3f5f\"},\"type\":\"carpet\"}],\"choropleth\":[{\"colorbar\":{\"outlinewidth\":0,\"ticks\":\"\"},\"type\":\"choropleth\"}],\"contour\":[{\"colorbar\":{\"outlinewidth\":0,\"ticks\":\"\"},\"colorscale\":[[0.0,\"#0d0887\"],[0.1111111111111111,\"#46039f\"],[0.2222222222222222,\"#7201a8\"],[0.3333333333333333,\"#9c179e\"],[0.4444444444444444,\"#bd3786\"],[0.5555555555555556,\"#d8576b\"],[0.6666666666666666,\"#ed7953\"],[0.7777777777777778,\"#fb9f3a\"],[0.8888888888888888,\"#fdca26\"],[1.0,\"#f0f921\"]],\"type\":\"contour\"}],\"contourcarpet\":[{\"colorbar\":{\"outlinewidth\":0,\"ticks\":\"\"},\"type\":\"contourcarpet\"}],\"heatmap\":[{\"colorbar\":{\"outlinewidth\":0,\"ticks\":\"\"},\"colorscale\":[[0.0,\"#0d0887\"],[0.1111111111111111,\"#46039f\"],[0.2222222222222222,\"#7201a8\"],[0.3333333333333333,\"#9c179e\"],[0.4444444444444444,\"#bd3786\"],[0.5555555555555556,\"#d8576b\"],[0.6666666666666666,\"#ed7953\"],[0.7777777777777778,\"#fb9f3a\"],[0.8888888888888888,\"#fdca26\"],[1.0,\"#f0f921\"]],\"type\":\"heatmap\"}],\"heatmapgl\":[{\"colorbar\":{\"outlinewidth\":0,\"ticks\":\"\"},\"colorscale\":[[0.0,\"#0d0887\"],[0.1111111111111111,\"#46039f\"],[0.2222222222222222,\"#7201a8\"],[0.3333333333333333,\"#9c179e\"],[0.4444444444444444,\"#bd3786\"],[0.5555555555555556,\"#d8576b\"],[0.6666666666666666,\"#ed7953\"],[0.7777777777777778,\"#fb9f3a\"],[0.8888888888888888,\"#fdca26\"],[1.0,\"#f0f921\"]],\"type\":\"heatmapgl\"}],\"histogram\":[{\"marker\":{\"pattern\":{\"fillmode\":\"overlay\",\"size\":10,\"solidity\":0.2}},\"type\":\"histogram\"}],\"histogram2d\":[{\"colorbar\":{\"outlinewidth\":0,\"ticks\":\"\"},\"colorscale\":[[0.0,\"#0d0887\"],[0.1111111111111111,\"#46039f\"],[0.2222222222222222,\"#7201a8\"],[0.3333333333333333,\"#9c179e\"],[0.4444444444444444,\"#bd3786\"],[0.5555555555555556,\"#d8576b\"],[0.6666666666666666,\"#ed7953\"],[0.7777777777777778,\"#fb9f3a\"],[0.8888888888888888,\"#fdca26\"],[1.0,\"#f0f921\"]],\"type\":\"histogram2d\"}],\"histogram2dcontour\":[{\"colorbar\":{\"outlinewidth\":0,\"ticks\":\"\"},\"colorscale\":[[0.0,\"#0d0887\"],[0.1111111111111111,\"#46039f\"],[0.2222222222222222,\"#7201a8\"],[0.3333333333333333,\"#9c179e\"],[0.4444444444444444,\"#bd3786\"],[0.5555555555555556,\"#d8576b\"],[0.6666666666666666,\"#ed7953\"],[0.7777777777777778,\"#fb9f3a\"],[0.8888888888888888,\"#fdca26\"],[1.0,\"#f0f921\"]],\"type\":\"histogram2dcontour\"}],\"mesh3d\":[{\"colorbar\":{\"outlinewidth\":0,\"ticks\":\"\"},\"type\":\"mesh3d\"}],\"parcoords\":[{\"line\":{\"colorbar\":{\"outlinewidth\":0,\"ticks\":\"\"}},\"type\":\"parcoords\"}],\"pie\":[{\"automargin\":true,\"type\":\"pie\"}],\"scatter\":[{\"marker\":{\"colorbar\":{\"outlinewidth\":0,\"ticks\":\"\"}},\"type\":\"scatter\"}],\"scatter3d\":[{\"line\":{\"colorbar\":{\"outlinewidth\":0,\"ticks\":\"\"}},\"marker\":{\"colorbar\":{\"outlinewidth\":0,\"ticks\":\"\"}},\"type\":\"scatter3d\"}],\"scattercarpet\":[{\"marker\":{\"colorbar\":{\"outlinewidth\":0,\"ticks\":\"\"}},\"type\":\"scattercarpet\"}],\"scattergeo\":[{\"marker\":{\"colorbar\":{\"outlinewidth\":0,\"ticks\":\"\"}},\"type\":\"scattergeo\"}],\"scattergl\":[{\"marker\":{\"colorbar\":{\"outlinewidth\":0,\"ticks\":\"\"}},\"type\":\"scattergl\"}],\"scattermapbox\":[{\"marker\":{\"colorbar\":{\"outlinewidth\":0,\"ticks\":\"\"}},\"type\":\"scattermapbox\"}],\"scatterpolar\":[{\"marker\":{\"colorbar\":{\"outlinewidth\":0,\"ticks\":\"\"}},\"type\":\"scatterpolar\"}],\"scatterpolargl\":[{\"marker\":{\"colorbar\":{\"outlinewidth\":0,\"ticks\":\"\"}},\"type\":\"scatterpolargl\"}],\"scatterternary\":[{\"marker\":{\"colorbar\":{\"outlinewidth\":0,\"ticks\":\"\"}},\"type\":\"scatterternary\"}],\"surface\":[{\"colorbar\":{\"outlinewidth\":0,\"ticks\":\"\"},\"colorscale\":[[0.0,\"#0d0887\"],[0.1111111111111111,\"#46039f\"],[0.2222222222222222,\"#7201a8\"],[0.3333333333333333,\"#9c179e\"],[0.4444444444444444,\"#bd3786\"],[0.5555555555555556,\"#d8576b\"],[0.6666666666666666,\"#ed7953\"],[0.7777777777777778,\"#fb9f3a\"],[0.8888888888888888,\"#fdca26\"],[1.0,\"#f0f921\"]],\"type\":\"surface\"}],\"table\":[{\"cells\":{\"fill\":{\"color\":\"#EBF0F8\"},\"line\":{\"color\":\"white\"}},\"header\":{\"fill\":{\"color\":\"#C8D4E3\"},\"line\":{\"color\":\"white\"}},\"type\":\"table\"}]},\"layout\":{\"annotationdefaults\":{\"arrowcolor\":\"#2a3f5f\",\"arrowhead\":0,\"arrowwidth\":1},\"autotypenumbers\":\"strict\",\"coloraxis\":{\"colorbar\":{\"outlinewidth\":0,\"ticks\":\"\"}},\"colorscale\":{\"diverging\":[[0,\"#8e0152\"],[0.1,\"#c51b7d\"],[0.2,\"#de77ae\"],[0.3,\"#f1b6da\"],[0.4,\"#fde0ef\"],[0.5,\"#f7f7f7\"],[0.6,\"#e6f5d0\"],[0.7,\"#b8e186\"],[0.8,\"#7fbc41\"],[0.9,\"#4d9221\"],[1,\"#276419\"]],\"sequential\":[[0.0,\"#0d0887\"],[0.1111111111111111,\"#46039f\"],[0.2222222222222222,\"#7201a8\"],[0.3333333333333333,\"#9c179e\"],[0.4444444444444444,\"#bd3786\"],[0.5555555555555556,\"#d8576b\"],[0.6666666666666666,\"#ed7953\"],[0.7777777777777778,\"#fb9f3a\"],[0.8888888888888888,\"#fdca26\"],[1.0,\"#f0f921\"]],\"sequentialminus\":[[0.0,\"#0d0887\"],[0.1111111111111111,\"#46039f\"],[0.2222222222222222,\"#7201a8\"],[0.3333333333333333,\"#9c179e\"],[0.4444444444444444,\"#bd3786\"],[0.5555555555555556,\"#d8576b\"],[0.6666666666666666,\"#ed7953\"],[0.7777777777777778,\"#fb9f3a\"],[0.8888888888888888,\"#fdca26\"],[1.0,\"#f0f921\"]]},\"colorway\":[\"#636efa\",\"#EF553B\",\"#00cc96\",\"#ab63fa\",\"#FFA15A\",\"#19d3f3\",\"#FF6692\",\"#B6E880\",\"#FF97FF\",\"#FECB52\"],\"font\":{\"color\":\"#2a3f5f\"},\"geo\":{\"bgcolor\":\"white\",\"lakecolor\":\"white\",\"landcolor\":\"#E5ECF6\",\"showlakes\":true,\"showland\":true,\"subunitcolor\":\"white\"},\"hoverlabel\":{\"align\":\"left\"},\"hovermode\":\"closest\",\"mapbox\":{\"style\":\"light\"},\"paper_bgcolor\":\"white\",\"plot_bgcolor\":\"#E5ECF6\",\"polar\":{\"angularaxis\":{\"gridcolor\":\"white\",\"linecolor\":\"white\",\"ticks\":\"\"},\"bgcolor\":\"#E5ECF6\",\"radialaxis\":{\"gridcolor\":\"white\",\"linecolor\":\"white\",\"ticks\":\"\"}},\"scene\":{\"xaxis\":{\"backgroundcolor\":\"#E5ECF6\",\"gridcolor\":\"white\",\"gridwidth\":2,\"linecolor\":\"white\",\"showbackground\":true,\"ticks\":\"\",\"zerolinecolor\":\"white\"},\"yaxis\":{\"backgroundcolor\":\"#E5ECF6\",\"gridcolor\":\"white\",\"gridwidth\":2,\"linecolor\":\"white\",\"showbackground\":true,\"ticks\":\"\",\"zerolinecolor\":\"white\"},\"zaxis\":{\"backgroundcolor\":\"#E5ECF6\",\"gridcolor\":\"white\",\"gridwidth\":2,\"linecolor\":\"white\",\"showbackground\":true,\"ticks\":\"\",\"zerolinecolor\":\"white\"}},\"shapedefaults\":{\"line\":{\"color\":\"#2a3f5f\"}},\"ternary\":{\"aaxis\":{\"gridcolor\":\"white\",\"linecolor\":\"white\",\"ticks\":\"\"},\"baxis\":{\"gridcolor\":\"white\",\"linecolor\":\"white\",\"ticks\":\"\"},\"bgcolor\":\"#E5ECF6\",\"caxis\":{\"gridcolor\":\"white\",\"linecolor\":\"white\",\"ticks\":\"\"}},\"title\":{\"x\":0.05},\"xaxis\":{\"automargin\":true,\"gridcolor\":\"white\",\"linecolor\":\"white\",\"ticks\":\"\",\"title\":{\"standoff\":15},\"zerolinecolor\":\"white\",\"zerolinewidth\":2},\"yaxis\":{\"automargin\":true,\"gridcolor\":\"white\",\"linecolor\":\"white\",\"ticks\":\"\",\"title\":{\"standoff\":15},\"zerolinecolor\":\"white\",\"zerolinewidth\":2}}},\"xaxis\":{\"title\":{\"text\":\"Application year\"},\"tickvals\":[2014,2015,2016,2017,2018,2019,2020,2021,2022,2023]},\"yaxis\":{\"title\":{\"text\":\"Number of applicants for MSB\"},\"tickvals\":[0,50,100,150,200,250,300,350,400,450,500,550,600,650]},\"title\":{\"font\":{\"size\":20},\"text\":\"Number of applicants for MSB by year\",\"x\":0.5,\"y\":0.9}},                        {\"responsive\": true}                    ).then(function(){\n",
       "                            \n",
       "var gd = document.getElementById('de60a352-c828-4930-bcb1-04a95096d648');\n",
       "var x = new MutationObserver(function (mutations, observer) {{\n",
       "        var display = window.getComputedStyle(gd).display;\n",
       "        if (!display || display === 'none') {{\n",
       "            console.log([gd, 'removed!']);\n",
       "            Plotly.purge(gd);\n",
       "            observer.disconnect();\n",
       "        }}\n",
       "}});\n",
       "\n",
       "// Listen for the removal of the full notebook cells\n",
       "var notebookContainer = gd.closest('#notebook-container');\n",
       "if (notebookContainer) {{\n",
       "    x.observe(notebookContainer, {childList: true});\n",
       "}}\n",
       "\n",
       "// Listen for the clearing of the current output cell\n",
       "var outputEl = gd.closest('.output');\n",
       "if (outputEl) {{\n",
       "    x.observe(outputEl, {childList: true});\n",
       "}}\n",
       "\n",
       "                        })                };                });            </script>        </div>"
      ]
     },
     "metadata": {},
     "output_type": "display_data"
    }
   ],
   "source": [
    "import plotly.graph_objects as go\n",
    "import numpy as np\n",
    "fig = go.Figure()\n",
    "\n",
    "fig.add_trace(go.Bar(x=tailored_df_MSB_AS['Year'], y=tailored_df_MSB_AS['Conditional for MSB'], name='Accepted', marker_color = 'green'))\n",
    "fig.add_trace(go.Bar(x=tailored_df_MSB_AS['Year'], y=tailored_df_MSB_AS['Rejected for MSB'], name='Rejected', marker_color = 'red'))\n",
    "fig.add_trace(go.Bar(x=tailored_df_MSB_AS['Year'], y=tailored_df_MSB_AS['Unconditional for MSB'], name='Unconditional', marker_color = 'orange'))\n",
    "fig.add_trace(go.Bar(x=tailored_df_MSB_AS['Year'], y=tailored_df_MSB_AS['Not available for MSB'], name='Not available', marker_color = 'blue'))\n",
    "fig.update_xaxes(title_text='Application year', tickvals = np.arange(2014,2024,1))\n",
    "fig.update_yaxes(title_text='Number of applicants for MSB', tickvals = np.arange(0,700,50))\n",
    "\n",
    "fig.update_layout(title_text='Number of applicants for MSB by year', title_x = 0.5, title_y = 0.9, title_font=dict(size=20))\n",
    "\n",
    "fig.update_traces(marker_line_color='black', marker_line_width=1, opacity=0.6) "
   ]
  },
  {
   "cell_type": "code",
   "execution_count": null,
   "id": "ba794a75",
   "metadata": {},
   "outputs": [],
   "source": []
  }
 ],
 "metadata": {
  "kernelspec": {
   "display_name": "Python 3 (ipykernel)",
   "language": "python",
   "name": "python3"
  },
  "language_info": {
   "codemirror_mode": {
    "name": "ipython",
    "version": 3
   },
   "file_extension": ".py",
   "mimetype": "text/x-python",
   "name": "python",
   "nbconvert_exporter": "python",
   "pygments_lexer": "ipython3",
   "version": "3.9.12"
  }
 },
 "nbformat": 4,
 "nbformat_minor": 5
}
