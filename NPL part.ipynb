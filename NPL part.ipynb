{
 "cells": [
  {
   "cell_type": "markdown",
   "id": "477466be",
   "metadata": {},
   "source": [
    "# Importing the personal statements text file \n",
    "\n",
    "This contains 10 BSc Data Science personal statements representating 50% of the cohort starting in 2022\n",
    "\n",
    "Using NPL the following things will be identified from the personal statements:\n",
    "- Main topics (Using Topic Modelling)\n",
    "- Top 10 most frequent words - this may be more insightful than topic modelling as topic modelling is an unsupervised machine learning algorithm it is not always as effective as desired \n",
    "- Key people who have been mentioned - this could be used to provide a basis for potential students to do further research to explore their interests\n",
    "- Readability levels - This will be calculated using the Flesch-Kincaid Grade Level Forumla which calculates the grade level needed to understand a text using the average syllables per word and the average number of words per sentence. "
   ]
  },
  {
   "cell_type": "code",
   "execution_count": 4,
   "id": "5ee78712",
   "metadata": {},
   "outputs": [
    {
     "data": {
      "text/plain": [
       "'Personal statement: \\nTaking part in a coding competition and several UKMT challenges exposed me to new ways of approaching problems from what I was used to in school. The challenge of having to think differently about problems and eventually arrive at solutions after reaching dead-ends was something I relished doing, which convinced me that a quantitative degree was for me.\\nI have continued to challenge myself and explore the interplay between computer science and mathematics by solving Project Euler problems. For example, I used recursion to compute the convergents of continued fractions of the square root of 2. These problems nurtured my interest in pure mathematics, leading me to read Kevin Houston\\'s \"How to Think like a Mathematician\". This introduced me to more sophisticated inductive proof techniques than the ones I learned at A-level. To supplement this, I explored how Lean, a programming language, can be taught to inductively prove a simple addition from first principles. What '"
      ]
     },
     "execution_count": 4,
     "metadata": {},
     "output_type": "execute_result"
    }
   ],
   "source": [
    "import pandas as pd\n",
    "\n",
    "# Reading the text file\n",
    "with open('ST115_personal_statements.txt', 'r') as file:\n",
    "    text = file.read()\n",
    "\n",
    "# This phrase has been used in the text file to indicate the start of a different personal statement\n",
    "statements = text.split('Personal statement:')\n",
    "\n",
    "# Displaying the first 1000 characters of the text file\n",
    "text[:1000]"
   ]
  },
  {
   "cell_type": "markdown",
   "id": "346338cd",
   "metadata": {},
   "source": [
    "<b> STEP 1: </b>\n",
    "- Creating a dataframe where each row accounts for a single personal statement. This will be used to calculate the individual readability scores as well as the named entities in each personal statement."
   ]
  },
  {
   "cell_type": "code",
   "execution_count": null,
   "id": "2209fb27",
   "metadata": {},
   "outputs": [],
   "source": [
    "df = pd.DataFrame({'Document': documents})"
   ]
  }
 ],
 "metadata": {
  "kernelspec": {
   "display_name": "Python 3 (ipykernel)",
   "language": "python",
   "name": "python3"
  },
  "language_info": {
   "codemirror_mode": {
    "name": "ipython",
    "version": 3
   },
   "file_extension": ".py",
   "mimetype": "text/x-python",
   "name": "python",
   "nbconvert_exporter": "python",
   "pygments_lexer": "ipython3",
   "version": "3.9.12"
  }
 },
 "nbformat": 4,
 "nbformat_minor": 5
}
